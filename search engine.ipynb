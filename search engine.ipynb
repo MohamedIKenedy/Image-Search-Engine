{
 "cells": [
  {
   "cell_type": "code",
   "execution_count": null,
   "id": "e6fbe172",
   "metadata": {},
   "outputs": [],
   "source": [
    "from skimage.io import imread\n",
    "from skimage.transform import resize\n",
    "from skimage.feature import hog\n",
    "from skimage import exposure\n",
    "from scipy.spatial.distance import euclidean\n",
    "from skimage.feature import greycomatrix, greycoprops\n",
    "import matplotlib.pyplot as plt\n",
    "from skimage import feature\n",
    "import cv2 \n",
    "import mahotas\n",
    "import numpy as np\n",
    "from imutils import contours\n",
    "\n"
   ]
  },
  {
   "cell_type": "code",
   "execution_count": null,
   "id": "a0d2f2d8",
   "metadata": {},
   "outputs": [],
   "source": [
    "def LAB(img):\n",
    "    LABimg = cv2.cvtColor(img, cv2.COLOR_BGR2LAB)\n",
    "    hist = cv2.calcHist([LABimg], [0], None, [256], [0, 256])\n",
    "    return hist"
   ]
  },
  {
   "cell_type": "code",
   "execution_count": null,
   "id": "35cfb381",
   "metadata": {},
   "outputs": [],
   "source": [
    "from imutils import paths\n",
    "dataset = \"dataset\"\n",
    "query  = \"cracked_0063.jpg\"\n",
    "\n",
    "index = {}\n",
    "# loop over the images\n",
    "for imagePath in paths.list_images(dataset):\n",
    "    # load the image, convert it to grayscale, and describe it\n",
    "    image = cv2.imread(imagePath)\n",
    "    gray = cv2.cvtColor(image, cv2.COLOR_BGR2GRAY)\n",
    "    hist = LAB(image)\n",
    "\n",
    "    # update the index dictionary\n",
    "    filename = imagePath[imagePath.rfind(\"/\") + 1:]\n",
    "    index[filename] = hist\n",
    "\n",
    "# load the query image and extract Local Binary Patterns from it\n",
    "query = cv2.imread(query)\n",
    "queryFeatures = LAB(query)\n",
    "\n",
    "# show the query image and initialize the results dictionary\n",
    "cv2.imshow(\"Query\", query)\n",
    "results = {}\n",
    "\n",
    "# loop over the index\n",
    "for (k, features) in index.items():\n",
    "    # compute the chi-squared distance between the current features and the query\n",
    "    # features, then update the dictionary of results\n",
    "    d = 0.5 * np.sum(((features - queryFeatures) ** 2) / (features + queryFeatures + 1e-10))\n",
    "    results[k] = d\n",
    "\n",
    "# sort the results\n",
    "results = sorted([(v, k) for (k, v) in results.items()])\n",
    "\n",
    "\n",
    "# loop over the results\n",
    "for (i, (score, filename)) in enumerate(results):\n",
    "    # show the result image\n",
    "    print(\"#%d. %s: %.4f\" % (i + 1, filename, score))\n",
    "    image = cv2.imread(filename)\n",
    "    cv2.imshow(\"Result #{}\".format(i + 1), image)\n",
    "    cv2.waitKey(0)\n",
    "    "
   ]
  },
  {
   "cell_type": "markdown",
   "id": "a58daa57",
   "metadata": {},
   "source": [
    "## for shape"
   ]
  },
  {
   "cell_type": "markdown",
   "id": "436efa8f",
   "metadata": {},
   "source": [
    "## using hue moments method"
   ]
  },
  {
   "cell_type": "code",
   "execution_count": 34,
   "id": "4a6ac1df",
   "metadata": {},
   "outputs": [],
   "source": [
    "def hue_moment_descriptor(img):\n",
    "    img_len,img_width = img.shape[0],img.shape[1]\n",
    "    centre = img_len//2,img_width//2\n",
    "    seuil = img[centre[0]-2:centre[0]+2,centre[1]-2:centre[1]+2].mean()                     #img[img_dim[0]//2,img_dim[1]//2]\n",
    "    couleur = 255\n",
    "    options = [cv2.THRESH_BINARY,cv2.THRESH_BINARY_INV,cv2.THRESH_TRUNC,cv2.THRESH_TOZERO,cv2.THRESH_TOZERO_INV]\n",
    "    result = cv2.threshold(img, int(seuil), couleur, options[0])[1]\n",
    "    # Calculate Moments \n",
    "    moments = cv2.moments(result) \n",
    "    # Calculate Hu Moments \n",
    "    huMoments = cv2.HuMoments(moments)\n",
    "    return huMoments.reshape((7,))    \n"
   ]
  },
  {
   "cell_type": "code",
   "execution_count": 35,
   "id": "42160e96",
   "metadata": {},
   "outputs": [
    {
     "name": "stdout",
     "output_type": "stream",
     "text": [
      "#1. cracked_train\\cracked_0149.jpg: 0.0000\n",
      "#2. cracked_train\\cracked_0110.jpg: 0.0000\n",
      "#3. cracked_train\\cracked_0165.jpg: 0.0000\n",
      "#4. cracked_train\\cracked_0121.jpg: 0.0000\n",
      "#5. cracked_train\\cracked_0050.jpg: 0.0001\n",
      "#6. cracked_train\\cracked_0049.jpg: 0.0001\n",
      "#7. cracked_train\\cracked_0125.jpg: 0.0001\n",
      "#8. cracked_train\\cracked_0080.jpg: 0.0001\n",
      "#9. cracked_train\\cracked_0088.jpg: 0.0001\n",
      "#10. cracked_train\\cracked_0114.jpg: 0.0001\n",
      "#11. cracked_train\\cracked_0135.jpg: 0.0001\n",
      "#12. cracked_train\\cracked_0069.jpg: 0.0001\n",
      "#13. cracked_train\\cracked_0119.jpg: 0.0001\n",
      "#14. cracked_train\\cracked_0101.jpg: 0.0002\n",
      "#15. cracked_train\\cracked_0158.jpg: 0.0002\n",
      "#16. cracked_train\\cracked_0090.jpg: 0.0002\n",
      "#17. cracked_train\\cracked_0066.jpg: 0.0002\n",
      "#18. cracked_train\\cracked_0144.jpg: 0.0002\n",
      "#19. cracked_train\\cracked_0105.jpg: 0.0002\n",
      "#20. cracked_train\\cracked_0082.jpg: 0.0002\n"
     ]
    }
   ],
   "source": [
    "from imutils import paths\n",
    "dataset = \"cracked_train\"\n",
    "query = \"test.jpg\"\n",
    "\n",
    "index = {}\n",
    "# loop over the images\n",
    "for imagePath in paths.list_images(dataset):\n",
    "    # load the image, convert it to grayscale, and describe it\n",
    "    image = cv2.imread(imagePath)\n",
    "    gray = cv2.cvtColor(image, cv2.COLOR_BGR2GRAY)\n",
    "    hist = hue_moment_descriptor(gray)\n",
    "\n",
    "    # update the index dictionary\n",
    "    filename = imagePath[imagePath.rfind(\"/\") + 1:]\n",
    "    index[filename] = hist\n",
    "\n",
    "# load the query image and extract Local Binary Patterns from it\n",
    "query = cv2.imread(query)\n",
    "queryFeatures = hue_moment_descriptor(cv2.cvtColor(query, cv2.COLOR_BGR2GRAY))\n",
    "\n",
    "# show the query image and initialize the results dictionary\n",
    "cv2.imshow(\"Query\", query)\n",
    "results = {}\n",
    "\n",
    "# loop over the index\n",
    "for (k, features) in index.items():\n",
    "    # compute the chi-squared distance between the current features and the query\n",
    "    # features, then update the dictionary of results\n",
    "    d = euclidean(features,queryFeatures)\n",
    "    #d = 0.5 * np.sum(((features - queryFeatures) ** 2) / (features + queryFeatures + 1e-10))\n",
    "    results[k] = d\n",
    "\n",
    "# sort the results\n",
    "results = sorted([(v, k) for (k, v) in results.items()])[:20]\n",
    "\n",
    "\n",
    "# loop over the results\n",
    "for (i, (score, filename)) in enumerate(results):\n",
    "    # show the result image\n",
    "    print(\"#%d. %s: %.4f\" % (i + 1, filename, score))\n",
    "    image = cv2.imread(filename)\n",
    "    cv2.imshow(\"Result #{}\".format(i + 1), image)\n",
    "    cv2.waitKey(0)\n",
    "    "
   ]
  },
  {
   "cell_type": "markdown",
   "id": "81dc0275",
   "metadata": {},
   "source": [
    "## using hog method"
   ]
  },
  {
   "cell_type": "code",
   "execution_count": 3,
   "id": "cc2315d9",
   "metadata": {},
   "outputs": [],
   "source": [
    "def hog_descriptor(img):\n",
    "    resized_img1 = resize(img, (128*4, 64*4))\n",
    "    fd1= hog(resized_img1, orientations=9, pixels_per_cell=(8, 8),cells_per_block=(2, 2), visualize=False, channel_axis=-1)\n",
    "    return fd1"
   ]
  },
  {
   "cell_type": "code",
   "execution_count": null,
   "id": "247e0383",
   "metadata": {},
   "outputs": [
    {
     "name": "stdout",
     "output_type": "stream",
     "text": [
      "#1. cracked_train\\cracked_0066.jpg: 31.9830\n"
     ]
    }
   ],
   "source": [
    "from imutils import paths\n",
    "dataset = \"cracked_train\"\n",
    "query = \"braided_0115.jpg\"\n",
    "\n",
    "index = {}\n",
    "# loop over the images\n",
    "for imagePath in paths.list_images(dataset):\n",
    "    # load the image, convert it to grayscale, and describe it\n",
    "    image = cv2.imread(imagePath)\n",
    "    #gray = cv2.cvtColor(image, cv2.COLOR_BGR2GRAY)\n",
    "    hist = hog_descriptor(image)\n",
    "\n",
    "    # update the index dictionary\n",
    "    filename = imagePath[imagePath.rfind(\"/\") + 1:]\n",
    "    index[filename] = hist\n",
    "\n",
    "# load the query image and extract Local Binary Patterns from it\n",
    "query = cv2.imread(query)\n",
    "queryFeatures = hog_descriptor(query)\n",
    "\n",
    "# show the query image and initialize the results dictionary\n",
    "cv2.imshow(\"Query\", query)\n",
    "results = {}\n",
    "\n",
    "# loop over the index\n",
    "for (k, features) in index.items():\n",
    "    # compute the chi-squared distance between the current features and the query\n",
    "    # features, then update the dictionary of results\n",
    "    d = euclidean(features,queryFeatures)\n",
    "    #d = 0.5 * np.sum(((features - queryFeatures) ** 2) / (features + queryFeatures + 1e-10))\n",
    "    results[k] = d\n",
    "\n",
    "# sort the results\n",
    "results = sorted([(v, k) for (k, v) in results.items()])[:20]\n",
    "\n",
    "\n",
    "# loop over the results\n",
    "for (i, (score, filename)) in enumerate(results):\n",
    "    # show the result image\n",
    "    print(\"#%d. %s: %.4f\" % (i + 1, filename, score))\n",
    "    image = cv2.imread(filename)\n",
    "    cv2.imshow(\"Result #{}\".format(i + 1), image)\n",
    "    cv2.waitKey(0)\n",
    "    "
   ]
  },
  {
   "cell_type": "markdown",
   "id": "d10c57e8",
   "metadata": {},
   "source": [
    "## using zernike moments"
   ]
  },
  {
   "cell_type": "code",
   "execution_count": 22,
   "id": "48318928",
   "metadata": {},
   "outputs": [],
   "source": [
    "def Zernike_moments(im):\n",
    "    #preprocessing\n",
    "    img = cv2.cvtColor(im, cv2.COLOR_RGB2GRAY)\n",
    "    img_len,img_width = img.shape[0],img.shape[1]\n",
    "    centre = img_len//2,img_width//2\n",
    "    seuil = img[centre[0]-2:centre[0]+2,centre[1]-2:centre[1]+2].mean()                     #img[img_dim[0]//2,img_dim[1]//2]\n",
    "    couleur = 255\n",
    "    options = [cv2.THRESH_BINARY,cv2.THRESH_BINARY_INV,cv2.THRESH_TRUNC,cv2.THRESH_TOZERO,cv2.THRESH_TOZERO_INV]\n",
    "    result = cv2.threshold(img, int(seuil), couleur, options[0])[1]\n",
    "    thresh = cv2.erode(result, None, iterations=5)\n",
    "    cnts = cv2.findContours(thresh, cv2.RETR_EXTERNAL, cv2.CHAIN_APPROX_SIMPLE)\n",
    "    cnts = cnts[0] if len(cnts) == 2 else cnts[1]\n",
    "    (cnts, _) = contours.sort_contours(cnts, method=\"left-to-right\")\n",
    "    features = mahotas.features.zernike_moments(thresh, cv2.minEnclosingCircle(cnts[0])[1], degree=8)\n",
    "    \n",
    "    return features\n"
   ]
  },
  {
   "cell_type": "code",
   "execution_count": 26,
   "id": "76bba924",
   "metadata": {},
   "outputs": [
    {
     "name": "stdout",
     "output_type": "stream",
     "text": [
      "#1. cracked_train\\cracked_0056.jpg: 0.3285\n",
      "#2. cracked_train\\cracked_0067.jpg: 0.3439\n",
      "#3. cracked_train\\cracked_0130.jpg: 0.3826\n",
      "#4. cracked_train\\cracked_0113.jpg: 0.3963\n",
      "#5. cracked_train\\cracked_0076.jpg: 0.4041\n",
      "#6. cracked_train\\cracked_0115.jpg: 0.4209\n",
      "#7. cracked_train\\cracked_0138.jpg: 0.4330\n",
      "#8. cracked_train\\cracked_0164.jpg: 0.4451\n",
      "#9. cracked_train\\cracked_0124.jpg: 0.4519\n",
      "#10. cracked_train\\cracked_0163.jpg: 0.4665\n",
      "#11. cracked_train\\cracked_0083.jpg: 0.4677\n",
      "#12. cracked_train\\cracked_0060.jpg: 0.4713\n",
      "#13. cracked_train\\cracked_0109.jpg: 0.4723\n",
      "#14. cracked_train\\cracked_0070.jpg: 0.4801\n",
      "#15. cracked_train\\cracked_0142.jpg: 0.4824\n",
      "#16. cracked_train\\cracked_0134.jpg: 0.4901\n",
      "#17. cracked_train\\cracked_0098.jpg: 0.5026\n",
      "#18. cracked_train\\cracked_0063.jpg: 0.5254\n",
      "#19. cracked_train\\cracked_0151.jpg: 0.5472\n",
      "#20. cracked_train\\cracked_0165.jpg: 0.5796\n"
     ]
    }
   ],
   "source": [
    "from imutils import paths\n",
    "dataset = \"cracked_train\"\n",
    "query = \"braided_0115.jpg\"\n",
    "\n",
    "index = {}\n",
    "# loop over the images\n",
    "for imagePath in paths.list_images(dataset):\n",
    "    # load the image, convert it to grayscale, and describe it\n",
    "    image = cv2.imread(imagePath)\n",
    "    gray = cv2.cvtColor(image, cv2.COLOR_BGR2GRAY)\n",
    "    \n",
    "    try:\n",
    "        hist = Zernike_moments(image)\n",
    "    except:\n",
    "        continue\n",
    "    # update the index dictionary\n",
    "    filename = imagePath[imagePath.rfind(\"/\") + 1:]\n",
    "    index[filename] = hist\n",
    "\n",
    "# load the query image and extract Local Binary Patterns from it\n",
    "query = cv2.imread(query)\n",
    "queryFeatures = Zernike_moments(query)\n",
    "\n",
    "# show the query image and initialize the results dictionary\n",
    "cv2.imshow(\"Query\", query)\n",
    "results = {}\n",
    "\n",
    "# loop over the index\n",
    "for (k, features) in index.items():\n",
    "    # compute the chi-squared distance between the current features and the query\n",
    "    # features, then update the dictionary of results\n",
    "    d = euclidean(features,queryFeatures)\n",
    "    #d = 0.5 * np.sum(((features - queryFeatures) ** 2) / (features + queryFeatures + 1e-10))\n",
    "    results[k] = d\n",
    "\n",
    "# sort the results\n",
    "results = sorted([(v, k) for (k, v) in results.items()])[:20]\n",
    "\n",
    "\n",
    "# loop over the results\n",
    "for (i, (score, filename)) in enumerate(results):\n",
    "    # show the result image\n",
    "    print(\"#%d. %s: %.4f\" % (i + 1, filename, score))\n",
    "    image = cv2.imread(filename)\n",
    "    cv2.imshow(\"Result #{}\".format(i + 1), image)\n",
    "    cv2.waitKey(0)\n",
    "    "
   ]
  },
  {
   "cell_type": "markdown",
   "id": "d43bf5cc",
   "metadata": {},
   "source": [
    "## for Texture "
   ]
  },
  {
   "cell_type": "markdown",
   "id": "6c8ef8e2",
   "metadata": {},
   "source": [
    "### Using LBP method"
   ]
  },
  {
   "cell_type": "code",
   "execution_count": 39,
   "id": "51610ba7",
   "metadata": {},
   "outputs": [],
   "source": [
    "def lbpdescriptor(image,numPoints=24,radius=8,eps=1e-7):\n",
    "        # compute the Local Binary Pattern representation of the image, and then\n",
    "        # use the LBP representation to build the histogram of patterns\n",
    "        lbp = feature.local_binary_pattern(image, numPoints, radius, method=\"uniform\")\n",
    "        (hist, _) = np.histogram(lbp.ravel(), bins=range(0, numPoints + 3),range=(0, numPoints + 2))\n",
    "        # normalize the histogram\n",
    "        hist = hist.astype(\"float\")\n",
    "        hist /= (hist.sum() + eps)\n",
    "\n",
    "        # return the histogram of Local Binary Patterns\n",
    "        return hist"
   ]
  },
  {
   "cell_type": "code",
   "execution_count": 40,
   "id": "1f2613bc",
   "metadata": {},
   "outputs": [
    {
     "name": "stdout",
     "output_type": "stream",
     "text": [
      "#1. dataset\\braided_0115.jpg: 0.0000\n",
      "#2. dataset\\braided_0154.jpg: 0.0014\n",
      "#3. dataset\\wrinkled_0066.jpg: 0.0018\n",
      "#4. dataset\\frilly_0021.jpg: 0.0020\n",
      "#5. dataset\\braided_0111.jpg: 0.0021\n",
      "#6. dataset\\cracked_0061.jpg: 0.0021\n",
      "#7. dataset\\stratified_0131.jpg: 0.0022\n",
      "#8. dataset\\smeared_0111.jpg: 0.0023\n",
      "#9. dataset\\chequered_0145.jpg: 0.0028\n",
      "#10. dataset\\bumpy_0152.jpg: 0.0030\n",
      "#11. dataset\\waffled_0119.jpg: 0.0031\n",
      "#12. dataset\\smeared_0102.jpg: 0.0031\n",
      "#13. dataset\\freckled_0117.jpg: 0.0032\n",
      "#14. dataset\\braided_0114.jpg: 0.0032\n",
      "#15. dataset\\zigzagged_0128.jpg: 0.0033\n",
      "#16. dataset\\crystalline_0108.jpg: 0.0034\n",
      "#17. dataset\\spiralled_0056.jpg: 0.0037\n",
      "#18. dataset\\smeared_0118.jpg: 0.0038\n",
      "#19. dataset\\pitted_0144.jpg: 0.0041\n",
      "#20. dataset\\braided_0118.jpg: 0.0041\n",
      "#21. dataset\\matted_0055.jpg: 0.0041\n",
      "#22. dataset\\braided_0142.jpg: 0.0041\n",
      "#23. dataset\\pitted_0154.jpg: 0.0042\n",
      "#24. dataset\\potholed_0069.jpg: 0.0045\n"
     ]
    },
    {
     "ename": "KeyboardInterrupt",
     "evalue": "",
     "output_type": "error",
     "traceback": [
      "\u001b[1;31m---------------------------------------------------------------------------\u001b[0m",
      "\u001b[1;31mKeyboardInterrupt\u001b[0m                         Traceback (most recent call last)",
      "Cell \u001b[1;32mIn [40], line 42\u001b[0m\n\u001b[0;32m     40\u001b[0m image \u001b[38;5;241m=\u001b[39m cv2\u001b[38;5;241m.\u001b[39mimread(filename)\n\u001b[0;32m     41\u001b[0m cv2\u001b[38;5;241m.\u001b[39mimshow(\u001b[38;5;124m\"\u001b[39m\u001b[38;5;124mResult #\u001b[39m\u001b[38;5;132;01m{}\u001b[39;00m\u001b[38;5;124m\"\u001b[39m\u001b[38;5;241m.\u001b[39mformat(i \u001b[38;5;241m+\u001b[39m \u001b[38;5;241m1\u001b[39m), image)\n\u001b[1;32m---> 42\u001b[0m \u001b[43mcv2\u001b[49m\u001b[38;5;241;43m.\u001b[39;49m\u001b[43mwaitKey\u001b[49m\u001b[43m(\u001b[49m\u001b[38;5;241;43m0\u001b[39;49m\u001b[43m)\u001b[49m\n",
      "\u001b[1;31mKeyboardInterrupt\u001b[0m: "
     ]
    }
   ],
   "source": [
    "from imutils import paths\n",
    "dataset = \"dataset\"\n",
    "query  = \"braided_0115.jpg\"\n",
    "\n",
    "index = {}\n",
    "# loop over the images\n",
    "for imagePath in paths.list_images(dataset):\n",
    "    # load the image, convert it to grayscale, and describe it\n",
    "    image = cv2.imread(imagePath)\n",
    "    gray = cv2.cvtColor(image, cv2.COLOR_BGR2GRAY)\n",
    "    hist = lbpdescriptor(gray)\n",
    "\n",
    "    # update the index dictionary\n",
    "    filename = imagePath[imagePath.rfind(\"/\") + 1:]\n",
    "    index[filename] = hist\n",
    "\n",
    "# load the query image and extract Local Binary Patterns from it\n",
    "query = cv2.imread(query)\n",
    "queryFeatures = lbpdescriptor(cv2.cvtColor(query, cv2.COLOR_BGR2GRAY))\n",
    "\n",
    "# show the query image and initialize the results dictionary\n",
    "cv2.imshow(\"Query\", query)\n",
    "results = {}\n",
    "\n",
    "# loop over the index\n",
    "for (k, features) in index.items():\n",
    "    # compute the chi-squared distance between the current features and the query\n",
    "    # features, then update the dictionary of results\n",
    "    d = 0.5 * np.sum(((features - queryFeatures) ** 2) / (features + queryFeatures + 1e-10))\n",
    "    results[k] = d\n",
    "\n",
    "# sort the results\n",
    "results = sorted([(v, k) for (k, v) in results.items()])\n",
    "\n",
    "\n",
    "# loop over the results\n",
    "for (i, (score, filename)) in enumerate(results):\n",
    "    # show the result image\n",
    "    print(\"#%d. %s: %.4f\" % (i + 1, filename, score))\n",
    "    image = cv2.imread(filename)\n",
    "    cv2.imshow(\"Result #{}\".format(i + 1), image)\n",
    "    cv2.waitKey(0)\n",
    "    "
   ]
  },
  {
   "cell_type": "markdown",
   "id": "8312cd69",
   "metadata": {},
   "source": [
    "### Using Haralik method"
   ]
  },
  {
   "cell_type": "code",
   "execution_count": 42,
   "id": "076f5604",
   "metadata": {},
   "outputs": [],
   "source": [
    "def texture_heralik_descriptor(img):\n",
    "    return mahotas.features.haralick(img).mean(axis=0)"
   ]
  },
  {
   "cell_type": "code",
   "execution_count": 43,
   "id": "7127f140",
   "metadata": {},
   "outputs": [
    {
     "data": {
      "text/plain": [
       "array([ 8.36502566e-05,  2.63655635e+03,  6.94511608e-01,  4.46357768e+03,\n",
       "        5.35131539e-02,  2.46529452e+02,  1.52177544e+04,  8.82300738e+00,\n",
       "        1.41415154e+01,  1.03187093e-04,  5.75035486e+00, -2.19378200e-01,\n",
       "        9.72385107e-01])"
      ]
     },
     "execution_count": 43,
     "metadata": {},
     "output_type": "execute_result"
    }
   ],
   "source": [
    "query = cv2.imread(\"braided_0115.jpg\")\n",
    "texture_heralik_descriptor(query)"
   ]
  },
  {
   "cell_type": "code",
   "execution_count": 44,
   "id": "9bb60b71",
   "metadata": {},
   "outputs": [
    {
     "name": "stdout",
     "output_type": "stream",
     "text": [
      "#1. cracked_train\\cracked_0081.jpg: 557.3513\n",
      "#2. cracked_train\\cracked_0061.jpg: 568.6704\n",
      "#3. cracked_train\\cracked_0099.jpg: 1072.8282\n",
      "#4. cracked_train\\cracked_0163.jpg: 1156.6942\n",
      "#5. cracked_train\\cracked_0104.jpg: 1398.0257\n",
      "#6. cracked_train\\cracked_0072.jpg: 1447.0349\n",
      "#7. cracked_train\\cracked_0079.jpg: 1454.3554\n",
      "#8. cracked_train\\cracked_0159.jpg: 1509.9598\n",
      "#9. cracked_train\\cracked_0151.jpg: 1598.3404\n",
      "#10. cracked_train\\cracked_0122.jpg: 1603.5707\n",
      "#11. cracked_train\\cracked_0087.jpg: 1687.1791\n",
      "#12. cracked_train\\cracked_0078.jpg: 1700.1948\n"
     ]
    },
    {
     "ename": "KeyboardInterrupt",
     "evalue": "",
     "output_type": "error",
     "traceback": [
      "\u001b[1;31m---------------------------------------------------------------------------\u001b[0m",
      "\u001b[1;31mKeyboardInterrupt\u001b[0m                         Traceback (most recent call last)",
      "Cell \u001b[1;32mIn [44], line 42\u001b[0m\n\u001b[0;32m     40\u001b[0m image \u001b[38;5;241m=\u001b[39m cv2\u001b[38;5;241m.\u001b[39mimread(filename)\n\u001b[0;32m     41\u001b[0m cv2\u001b[38;5;241m.\u001b[39mimshow(\u001b[38;5;124m\"\u001b[39m\u001b[38;5;124mResult #\u001b[39m\u001b[38;5;132;01m{}\u001b[39;00m\u001b[38;5;124m\"\u001b[39m\u001b[38;5;241m.\u001b[39mformat(i \u001b[38;5;241m+\u001b[39m \u001b[38;5;241m1\u001b[39m), image)\n\u001b[1;32m---> 42\u001b[0m \u001b[43mcv2\u001b[49m\u001b[38;5;241;43m.\u001b[39;49m\u001b[43mwaitKey\u001b[49m\u001b[43m(\u001b[49m\u001b[38;5;241;43m0\u001b[39;49m\u001b[43m)\u001b[49m\n",
      "\u001b[1;31mKeyboardInterrupt\u001b[0m: "
     ]
    }
   ],
   "source": [
    "from imutils import paths\n",
    "dataset = \"cracked_train\"\n",
    "query = \"braided_0115.jpg\"\n",
    "\n",
    "index = {}\n",
    "# loop over the images\n",
    "for imagePath in paths.list_images(dataset):\n",
    "    # load the image, convert it to grayscale, and describe it\n",
    "    image = cv2.imread(imagePath)\n",
    "    gray = cv2.cvtColor(image, cv2.COLOR_BGR2GRAY)\n",
    "    hist = texture_heralik_descriptor(gray)\n",
    "\n",
    "    # update the index dictionary\n",
    "    filename = imagePath[imagePath.rfind(\"/\") + 1:]\n",
    "    index[filename] = hist\n",
    "\n",
    "# load the query image and extract Local Binary Patterns from it\n",
    "query = cv2.imread(query)\n",
    "queryFeatures = texture_heralik_descriptor(cv2.cvtColor(query, cv2.COLOR_BGR2GRAY))\n",
    "\n",
    "# show the query image and initialize the results dictionary\n",
    "cv2.imshow(\"Query\", query)\n",
    "results = {}\n",
    "\n",
    "# loop over the index\n",
    "for (k, features) in index.items():\n",
    "    # compute the chi-squared distance between the current features and the query\n",
    "    # features, then update the dictionary of results\n",
    "    d = euclidean(features,queryFeatures)\n",
    "    results[k] = d\n",
    "\n",
    "# sort the results\n",
    "results = sorted([(v, k) for (k, v) in results.items()])[:20]\n",
    "\n",
    "\n",
    "# loop over the results\n",
    "for (i, (score, filename)) in enumerate(results):\n",
    "    # show the result image\n",
    "    print(\"#%d. %s: %.4f\" % (i + 1, filename, score))\n",
    "    image = cv2.imread(filename)\n",
    "    cv2.imshow(\"Result #{}\".format(i + 1), image)\n",
    "    cv2.waitKey(0)\n",
    "    "
   ]
  },
  {
   "cell_type": "code",
   "execution_count": 11,
   "id": "05f37926",
   "metadata": {},
   "outputs": [],
   "source": []
  },
  {
   "cell_type": "code",
   "execution_count": null,
   "id": "ad463ebe",
   "metadata": {},
   "outputs": [],
   "source": []
  }
 ],
 "metadata": {
  "kernelspec": {
   "display_name": "Python 3 (ipykernel)",
   "language": "python",
   "name": "python3"
  },
  "language_info": {
   "codemirror_mode": {
    "name": "ipython",
    "version": 3
   },
   "file_extension": ".py",
   "mimetype": "text/x-python",
   "name": "python",
   "nbconvert_exporter": "python",
   "pygments_lexer": "ipython3",
   "version": "3.10.8"
  }
 },
 "nbformat": 4,
 "nbformat_minor": 5
}
